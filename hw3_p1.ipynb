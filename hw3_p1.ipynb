{
  "cells": [
    {
      "cell_type": "markdown",
      "metadata": {
        "id": "view-in-github",
        "colab_type": "text"
      },
      "source": [
        "<a href=\"https://colab.research.google.com/github/rithikkulkarni/alda-homework/blob/main/hw3_p1.ipynb\" target=\"_parent\"><img src=\"https://colab.research.google.com/assets/colab-badge.svg\" alt=\"Open In Colab\"/></a>"
      ]
    },
    {
      "cell_type": "markdown",
      "metadata": {
        "id": "Hq1vrnN9F-P8"
      },
      "source": [
        "# Instructions\n",
        "\n",
        "1. Add your name and HW Group Number below.\n",
        "2. Complete each question. Make sure you fill in any place that says `YOUR CODE HERE` or \"YOUR ANSWER HERE\", and delete and `throw NotImplementedError()` lines.\n",
        "3. Where applicable, run the test cases *below* each question to check your work. **Note**: In addition to the test cases you can see, the instructor may run additional test cases, including using *other datasets* to validate you code."
      ]
    },
    {
      "cell_type": "code",
      "execution_count": null,
      "metadata": {
        "id": "eeopzhCEF-P_",
        "colab": {
          "base_uri": "https://localhost:8080/",
          "height": 35
        },
        "outputId": "1f80f525-6ea2-4abc-b401-150635d56106"
      },
      "outputs": [
        {
          "output_type": "execute_result",
          "data": {
            "text/plain": [
              "'\\nName: Rithik Kulkarni\\nHW Group Number: 2\\n'"
            ],
            "application/vnd.google.colaboratory.intrinsic+json": {
              "type": "string"
            }
          },
          "metadata": {},
          "execution_count": 1
        }
      ],
      "source": [
        "\"\"\"\n",
        "Name: Rithik Kulkarni\n",
        "HW Group Number: 2\n",
        "\"\"\""
      ]
    },
    {
      "cell_type": "markdown",
      "metadata": {
        "deletable": false,
        "editable": false,
        "nbgrader": {
          "cell_type": "markdown",
          "checksum": "15a0d5319ebc16d362ea2937821211d3",
          "grade": false,
          "grade_id": "cell-1c68b78b2ae8c190",
          "locked": true,
          "schema_version": 3,
          "solution": false,
          "task": false
        },
        "id": "5Bt1Pl4CF-QB"
      },
      "source": [
        "### HW3 Problem 1: Linear Regression\n",
        "\n",
        "In this exercise, you will apply linear regression and Lasso regression methods to the dataset supplied to you and then compare their results to determine whether Lasso regression is needed for this dataset. Additionally, you will use sklearn's pipeline framework, which is so helpful when you have a sequence of transforms (e.g. normalization) and estimators (e.g. classifiers or regressors).\n",
        "\n",
        "**Note**: This assignment will have less provided code - you have to write most of it yourself. Remember to use prior homeworks as examples, and **always use the suggested random seed** to ensure the test cases work as provided.\n",
        "\n",
        "**Dataset description**: You are provided a dataset with 20 variables. Variables $x1\\ -\\ x19$ refer to the independent variables, while variable $y$ is your dependent variable. Training data is stored in the file `/etc/data/regression-train.csv`.\n",
        "\n",
        "**Note on Test Cases**: TAs will use a test set to verify your solution. The format (independent variables $x1\\ -\\ x19$, dependent variable  $y$) will be same, but TAs' file may contain different number of data points than the split version from training set. Please ensure you take this into account, and do not hard code any dimensions.\n"
      ]
    },
    {
      "cell_type": "code",
      "execution_count": null,
      "metadata": {
        "deletable": false,
        "editable": false,
        "nbgrader": {
          "cell_type": "code",
          "checksum": "798b018f7ed99af70d587cba0333c32e",
          "grade": false,
          "grade_id": "cell-dedbb94dcb8db9ae",
          "locked": true,
          "schema_version": 3,
          "solution": false,
          "task": false
        },
        "id": "iwElENXyF-QB"
      },
      "outputs": [],
      "source": [
        "import warnings\n",
        "warnings.filterwarnings('ignore')"
      ]
    },
    {
      "cell_type": "markdown",
      "metadata": {
        "id": "QgcBPA5LF-QC"
      },
      "source": [
        "# Part 0: Add necessary imports\n",
        "\n",
        "As you work through the homework, don't forget to add imports.\n",
        "We often put imports at the top of the file.\n",
        "For this assignment, you'll likely want to import pandas and numpy."
      ]
    },
    {
      "cell_type": "code",
      "execution_count": null,
      "metadata": {
        "deletable": false,
        "nbgrader": {
          "cell_type": "code",
          "checksum": "c1bc21582a961cb47e36d725cf261203",
          "grade": false,
          "grade_id": "imports",
          "locked": false,
          "schema_version": 3,
          "solution": true,
          "task": false
        },
        "id": "BX5Rkhu4F-QD"
      },
      "outputs": [],
      "source": [
        "import pandas as pd\n",
        "import numpy as np"
      ]
    },
    {
      "cell_type": "markdown",
      "metadata": {
        "deletable": false,
        "editable": false,
        "nbgrader": {
          "cell_type": "markdown",
          "checksum": "671eb8d25c55d735c94df313f65aaeaa",
          "grade": false,
          "grade_id": "cell-c428bb7f4ef5020c",
          "locked": true,
          "schema_version": 3,
          "solution": false,
          "task": false
        },
        "id": "8JjYnrFGF-QE"
      },
      "source": [
        "## Part 1: Linear Regression and Lasso Regression\n",
        "\n",
        "You will write code to normalize and train simple linear regression and Lasso Regression using scikit-learn.\n",
        "\n",
        "### 1.1 Loading Dataset\n",
        "\n",
        "Load a dataset into pandas data frame `df` from this file: `/etc/data/regression-train.csv`, assign columns $x1\\ -\\ x19$ to a variable `X`, and assign column $y$ to a variable `y`."
      ]
    },
    {
      "cell_type": "code",
      "execution_count": null,
      "metadata": {
        "deletable": false,
        "nbgrader": {
          "cell_type": "code",
          "checksum": "82cc70751e428e5054334d66ca5b3ad6",
          "grade": false,
          "grade_id": "load_dataset",
          "locked": false,
          "schema_version": 3,
          "solution": true,
          "task": false
        },
        "id": "2A1V7LqfF-QF"
      },
      "outputs": [],
      "source": [
        "#Read the data\n",
        "\n",
        "df = pd.read_csv('/content/regression-train.csv')\n",
        "X = df.iloc[:,:-1]\n",
        "y = df.iloc[:,-1]\n"
      ]
    },
    {
      "cell_type": "code",
      "execution_count": null,
      "metadata": {
        "deletable": false,
        "editable": false,
        "nbgrader": {
          "cell_type": "code",
          "checksum": "378b0244688ea0230ea55645bddd6511",
          "grade": true,
          "grade_id": "load_dataset_test-public",
          "locked": true,
          "points": 1,
          "schema_version": 3,
          "solution": false,
          "task": false
        },
        "id": "4ygvN5i1F-QG"
      },
      "outputs": [],
      "source": [
        "import numpy as np\n",
        "np.testing.assert_equal(df.shape, (132,20))"
      ]
    },
    {
      "cell_type": "code",
      "execution_count": null,
      "metadata": {
        "deletable": false,
        "editable": false,
        "nbgrader": {
          "cell_type": "code",
          "checksum": "108debac796e5af366008a946a13fce1",
          "grade": true,
          "grade_id": "load_dataset_test-hidden",
          "locked": true,
          "points": 1,
          "schema_version": 3,
          "solution": false,
          "task": false
        },
        "id": "KJ6H4cGGF-QI"
      },
      "outputs": [],
      "source": [
        "# Note: we will run hidden test cases too"
      ]
    },
    {
      "cell_type": "markdown",
      "metadata": {
        "deletable": false,
        "editable": false,
        "nbgrader": {
          "cell_type": "markdown",
          "checksum": "8975418bda2238b414994396f5e70226",
          "grade": false,
          "grade_id": "cell-5b525237656af645",
          "locked": true,
          "schema_version": 3,
          "solution": false,
          "task": false
        },
        "id": "ueQCOWJxF-QJ"
      },
      "source": [
        "### 1.2 Train/Test Split\n",
        "\n",
        "Create a 80% train / 20% test split, using **0** as the random state."
      ]
    },
    {
      "cell_type": "code",
      "execution_count": null,
      "metadata": {
        "deletable": false,
        "nbgrader": {
          "cell_type": "code",
          "checksum": "e4f8ecb91796667f2b46a37feb877886",
          "grade": false,
          "grade_id": "train_test",
          "locked": false,
          "schema_version": 3,
          "solution": true,
          "task": false
        },
        "id": "l_u9wrz-F-QK"
      },
      "outputs": [],
      "source": [
        "from sklearn.model_selection import train_test_split\n",
        "\n",
        "X_train, X_test, y_train, y_test = train_test_split(X, y, test_size=0.2, random_state=0)"
      ]
    },
    {
      "cell_type": "code",
      "execution_count": null,
      "metadata": {
        "deletable": false,
        "editable": false,
        "nbgrader": {
          "cell_type": "code",
          "checksum": "ed4c21fc12fa9dbd326bcdf3e8f51783",
          "grade": true,
          "grade_id": "train_test_test-public",
          "locked": true,
          "points": 2,
          "schema_version": 3,
          "solution": false,
          "task": false
        },
        "id": "7k2T8KeTF-QK"
      },
      "outputs": [],
      "source": [
        "np.testing.assert_equal(X_train.shape, (105,19))\n",
        "np.testing.assert_equal(X_test.shape, (27,19))"
      ]
    },
    {
      "cell_type": "code",
      "execution_count": null,
      "metadata": {
        "deletable": false,
        "editable": false,
        "nbgrader": {
          "cell_type": "code",
          "checksum": "42d2018ce78034503be7ea52a1ef8fcf",
          "grade": true,
          "grade_id": "train_test_test-hidden",
          "locked": true,
          "points": 1,
          "schema_version": 3,
          "solution": false,
          "task": false
        },
        "id": "cH5Sh_FFF-QL"
      },
      "outputs": [],
      "source": [
        "# Note: we will run hidden test cases too"
      ]
    },
    {
      "cell_type": "markdown",
      "metadata": {
        "deletable": false,
        "editable": false,
        "nbgrader": {
          "cell_type": "markdown",
          "checksum": "071c35516d989e8b8cf5523166e6beb7",
          "grade": false,
          "grade_id": "cell-3d9e8e16e21df9b7",
          "locked": true,
          "schema_version": 3,
          "solution": false,
          "task": false
        },
        "id": "PayZsm7dF-QM"
      },
      "source": [
        "### 1.3 Linear Regression v.s. Lasso CV\n",
        "\n",
        "In this section you will compare a LinearRegression with standard hyperparameters to a LassoCV model.\n",
        "\n",
        "Before your begin, read the documentation on sklearn's [LinearRegression](https://scikit-learn.org/stable/modules/generated/sklearn.linear_model.LinearRegression.html) and [LassoCV](https://scikit-learn.org/stable/modules/generated/sklearn.linear_model.LassoCV.html) - a Lasso regression model that uses CV to tune its hyperparameters.\n",
        "\n",
        "**Note** that the lasso regression model has *built-in* crossvalidation, which it performs on the training dataset provided, to select the best shrinkage coefficient for the validation data.\n",
        "\n",
        "For regression, it is particularly important to normalize our data before training the model (ensuring all variables are on the same scale), so we can better interpret our coefficients. For both models, make sure data is scaled first using **a standard scaler**, fit to the training data. Hint: you can use the sklearn's [StandardScaler](https://scikit-learn.org/stable/modules/generated/sklearn.preprocessing.StandardScaler.html) to achieve this.\n",
        "\n",
        "Note that we could use a pipeline for this process, but to make things easier, we will instead normalize our `X_train` and `X_test` variables."
      ]
    },
    {
      "cell_type": "markdown",
      "metadata": {
        "deletable": false,
        "editable": false,
        "nbgrader": {
          "cell_type": "markdown",
          "checksum": "5e916b5f95ed5b71a4bac7edb1574de9",
          "grade": false,
          "grade_id": "cell-0b118de09269ae26",
          "locked": true,
          "schema_version": 3,
          "solution": false,
          "task": false
        },
        "id": "p0uwPAtzF-QM"
      },
      "source": [
        "Complete the following:\n",
        "1. Fit a StandardScaler to the training dataset, and the normalize the training and test datasets. (**Note**: we fit the scale only to the training dataset - just like our model - we cannot use the test dataset to fit any part of our pipeline).\n",
        "2. Create both a LinearRegression model, and a LassoCV that uses **10 folds** for cross-validation and has a random state of **0**.\n",
        "3. Then fit both models to the normalized training dataset."
      ]
    },
    {
      "cell_type": "code",
      "execution_count": null,
      "metadata": {
        "deletable": false,
        "nbgrader": {
          "cell_type": "code",
          "checksum": "d34d3d80a0fcfe60abdcc1322ee65604",
          "grade": false,
          "grade_id": "train_model",
          "locked": false,
          "schema_version": 3,
          "solution": true,
          "task": false
        },
        "id": "mjh2hJZHF-QN"
      },
      "outputs": [],
      "source": [
        "from sklearn.preprocessing import StandardScaler\n",
        "from sklearn.linear_model import LinearRegression\n",
        "from sklearn.linear_model import LassoCV\n",
        "\n",
        "scaler = None\n",
        "linear_regressor = None\n",
        "Lasso_regressor = None\n",
        "\n",
        "random_state = 0\n",
        "\n",
        "# Scaling the data\n",
        "scaler = StandardScaler()\n",
        "X_train = scaler.fit_transform(X_train)\n",
        "X_test = scaler.transform(X_test)\n",
        "\n",
        "# Ensuring normalization\n",
        "for i in range(X_train.shape[1]):\n",
        "    np.testing.assert_almost_equal(np.mean(X_train[:, i]), 0, decimal=6)\n",
        "    np.testing.assert_almost_equal(np.std(X_train[:, i]), 1, decimal=6)\n",
        "\n",
        "# Initializing models\n",
        "linear_regressor = LinearRegression()\n",
        "Lasso_regressor = LassoCV(cv=10, random_state=random_state)\n",
        "\n",
        "# Fitting models\n",
        "linear_regressor.fit(X_train, y_train)\n",
        "Lasso_regressor.fit(X_train, y_train)\n",
        "\n",
        "# Validating model input features\n",
        "np.testing.assert_almost_equal(scaler.n_features_in_, 19)\n",
        "np.testing.assert_almost_equal(linear_regressor.n_features_in_, 19)\n",
        "np.testing.assert_almost_equal(Lasso_regressor.n_features_in_, 19)"
      ]
    },
    {
      "cell_type": "code",
      "execution_count": null,
      "metadata": {
        "deletable": false,
        "editable": false,
        "nbgrader": {
          "cell_type": "code",
          "checksum": "751fc8dd419eb6e56e1bf511522db60c",
          "grade": true,
          "grade_id": "train_model_tests-public",
          "locked": true,
          "points": 3,
          "schema_version": 3,
          "solution": false,
          "task": false
        },
        "id": "dATpXvnQF-QN"
      },
      "outputs": [],
      "source": [
        "# Test that the training dataset has been normalized\n",
        "# Go through each attribute\n",
        "for i in range(X_train.shape[1]):\n",
        "    # Assert that the mean is near 0 and the standard deviation is near 1\n",
        "    np.testing.assert_almost_equal(np.mean(X_train[:,i]), 0)\n",
        "    np.testing.assert_almost_equal(np.std(X_train[:,i]), 1)\n",
        "\n",
        "np.testing.assert_almost_equal(scaler.n_features_in_, 19)\n",
        "np.testing.assert_almost_equal(linear_regressor.n_features_in_, 19)\n",
        "np.testing.assert_almost_equal(Lasso_regressor.n_features_in_, 19)"
      ]
    },
    {
      "cell_type": "code",
      "execution_count": null,
      "metadata": {
        "deletable": false,
        "editable": false,
        "nbgrader": {
          "cell_type": "code",
          "checksum": "8eb8e6e5cbb571e42cfdd4a7767df2f6",
          "grade": true,
          "grade_id": "train_model_tests-hidden",
          "locked": true,
          "points": 2,
          "schema_version": 3,
          "solution": false,
          "task": false
        },
        "id": "PGD_32YbF-QO"
      },
      "outputs": [],
      "source": [
        "# Note: we will run hidden test cases too"
      ]
    },
    {
      "cell_type": "markdown",
      "metadata": {
        "deletable": false,
        "editable": false,
        "nbgrader": {
          "cell_type": "markdown",
          "checksum": "18e0ea7bc39fbeb01cba6700484e4e37",
          "grade": false,
          "grade_id": "cell-072312bd582920b4",
          "locked": true,
          "schema_version": 3,
          "solution": false,
          "task": false
        },
        "id": "Zr9jMGCtF-QP"
      },
      "source": [
        "### 1.5 Inference and Evaluation\n",
        "Calculate the training and testing RMSE for both models and assign them to the corresponding variables."
      ]
    },
    {
      "cell_type": "markdown",
      "metadata": {
        "deletable": false,
        "editable": false,
        "nbgrader": {
          "cell_type": "markdown",
          "checksum": "2033ecbc604b236ef2c4d85af656a432",
          "grade": false,
          "grade_id": "cell-77963fd993ea35eb",
          "locked": true,
          "schema_version": 3,
          "solution": false,
          "task": false
        },
        "id": "leSOIkvTF-QP"
      },
      "source": [
        "Which model do you expect will have lower training error? What about testing error? Why?"
      ]
    },
    {
      "cell_type": "markdown",
      "metadata": {
        "id": "gvquHHEjF-QQ"
      },
      "source": [
        "**ANSWER HERE**\n",
        "I expect the linear model to have a lower training error because it is built to minimize training error through a best fit regression. Also, the Lasso regression forces some coefficients to shrink towards zero, meaning we will have a simpler model. Since this prevents Lasso from fitting the training data too perfectly, I would expect Lasso to have a higher training RMSE.\n",
        "\n",
        "Since Lasso uses regularization to prevent overfitting, I would expect a lower test RMSE. Linear regression does not have measures in place to prevent overfitting, so it is more prone. Therefore, I think it will have a higher RMSE for testing."
      ]
    },
    {
      "cell_type": "code",
      "execution_count": null,
      "metadata": {
        "deletable": false,
        "nbgrader": {
          "cell_type": "code",
          "checksum": "37a2e21595943bfed5a7a960e08707f7",
          "grade": false,
          "grade_id": "rmse",
          "locked": false,
          "schema_version": 3,
          "solution": true,
          "task": false
        },
        "id": "5d3M2mp7F-QQ",
        "colab": {
          "base_uri": "https://localhost:8080/"
        },
        "outputId": "039a36ca-f1c4-4ce6-f12d-4a3cdd76aa91"
      },
      "outputs": [
        {
          "output_type": "stream",
          "name": "stdout",
          "text": [
            "Linear: Training RMSE = 524.953283852617; Testing RMSE = 787.9099436300614\n",
            "Lasso:  Training RMSE = 541.6957360523047; Testing RMSE = 639.4484997672906\n"
          ]
        }
      ],
      "source": [
        "# Note: You can use this function to calculate rmse when true value and prediction values are known.\n",
        "import math\n",
        "import sklearn\n",
        "def calculate_rmse(y_true, y_pred):\n",
        "    return math.sqrt(sklearn.metrics.mean_squared_error(y_true, y_pred))\n",
        "\n",
        "# Calculating RMSE\n",
        "LR_training_RMSE = calculate_rmse(y_train, linear_regressor.predict(X_train))\n",
        "LR_testing_RMSE = calculate_rmse(y_test, linear_regressor.predict(X_test))\n",
        "Lasso_training_RMSE = calculate_rmse(y_train, Lasso_regressor.predict(X_train))\n",
        "Lasso_testing_RMSE = calculate_rmse(y_test, Lasso_regressor.predict(X_test))\n",
        "\n",
        "print(f\"Linear: Training RMSE = {LR_training_RMSE}; Testing RMSE = {LR_testing_RMSE}\\nLasso:  Training RMSE = {Lasso_training_RMSE}; Testing RMSE = {Lasso_testing_RMSE}\")"
      ]
    },
    {
      "cell_type": "code",
      "execution_count": null,
      "metadata": {
        "deletable": false,
        "editable": false,
        "nbgrader": {
          "cell_type": "code",
          "checksum": "095e4581ab956b98e872e8597db73fce",
          "grade": true,
          "grade_id": "rmse_test-public",
          "locked": true,
          "points": 2,
          "schema_version": 3,
          "solution": false,
          "task": false
        },
        "id": "z1OZwRqUF-QR"
      },
      "outputs": [],
      "source": [
        "np.testing.assert_almost_equal(LR_training_RMSE, 524.9532838526169)\n",
        "np.testing.assert_almost_equal(Lasso_training_RMSE, 541.6957360523041)"
      ]
    },
    {
      "cell_type": "code",
      "execution_count": null,
      "metadata": {
        "deletable": false,
        "editable": false,
        "nbgrader": {
          "cell_type": "code",
          "checksum": "3ff234ce7700a84c408d9cd727599c32",
          "grade": true,
          "grade_id": "rmse_tests-hidden",
          "locked": true,
          "points": 2,
          "schema_version": 3,
          "solution": false,
          "task": false
        },
        "id": "6TqzeTI8F-QR"
      },
      "outputs": [],
      "source": [
        "# Note: we will run hidden test cases too"
      ]
    },
    {
      "cell_type": "markdown",
      "metadata": {
        "deletable": false,
        "editable": false,
        "nbgrader": {
          "cell_type": "markdown",
          "checksum": "3a313c318059ef445b00cb2c72a91eb2",
          "grade": false,
          "grade_id": "cell-a64c7b759514a5cc",
          "locked": true,
          "schema_version": 3,
          "solution": false,
          "task": false
        },
        "id": "UuFBr68XF-QR"
      },
      "source": [
        "Review your prediction above. Were you correct?"
      ]
    },
    {
      "cell_type": "markdown",
      "source": [
        "Yes, I was correct. The training RMSE was higher for Lasso, but its testing RMSE was lower because it prevented overfitting to the training data in hopes to decrease testing error."
      ],
      "metadata": {
        "id": "XmzpTjDzYqqP"
      }
    },
    {
      "cell_type": "markdown",
      "metadata": {
        "deletable": false,
        "editable": false,
        "nbgrader": {
          "cell_type": "markdown",
          "checksum": "6aa1db865ab4c27a150d8a33a6795f7b",
          "grade": false,
          "grade_id": "cell-6315cd1e01aae7ba",
          "locked": true,
          "schema_version": 3,
          "solution": false,
          "task": false
        },
        "id": "eOiXRYyyF-QS"
      },
      "source": [
        "## Part 2 Parameters of Estimators\n",
        "\n",
        "You can access the parameters specific to the estimators. If you have been using pipeline, please find the documentation on [Pipelines and composite estimators](https://scikit-learn.org/stable/modules/compose.html).\n",
        "\n",
        "### 2.1 Parameters\n",
        "\n",
        "Save the parameters of the models to corresponding variables using `.coef_` attribute of each of the model"
      ]
    },
    {
      "cell_type": "code",
      "execution_count": null,
      "metadata": {
        "deletable": false,
        "nbgrader": {
          "cell_type": "code",
          "checksum": "cabd074b89688c55acb1f0faad0f22c6",
          "grade": false,
          "grade_id": "parameters",
          "locked": false,
          "schema_version": 3,
          "solution": true,
          "task": false
        },
        "id": "jveDa8bhF-QS",
        "colab": {
          "base_uri": "https://localhost:8080/"
        },
        "outputId": "37561079-51e0-4373-95ff-a4482e3d65e4"
      },
      "outputs": [
        {
          "output_type": "stream",
          "name": "stdout",
          "text": [
            "Linear Regression parameters:\n",
            "[   48.18082989    65.73979512   210.77335056   122.5616241\n",
            "   124.07603501   290.38608009   123.86744484   -83.03161175\n",
            "   270.17717717   -48.56806094   -23.51778917  -941.63419412\n",
            "   -89.00842661 -4044.98292672  5073.44151699  -544.21209605\n",
            "   137.73175811  -101.04154575   235.26578305]\n",
            "\n",
            "Lasso Regression parameters:\n",
            "[ -201.29823887   125.69640945   143.15397394   113.55339266\n",
            "     0.           452.14702148    78.0967967    -28.89070358\n",
            "    -0.            -8.62418868     0.           -92.58796998\n",
            "   -95.66296382 -2130.41737003  2429.16734481    -0.\n",
            "    -0.          -153.90630771   171.8676209 ]\n"
          ]
        }
      ],
      "source": [
        "LR_parameter = linear_regressor.coef_\n",
        "Lasso_parameter = Lasso_regressor.coef_\n",
        "\n",
        "print(\"Linear Regression parameters:\")\n",
        "print(LR_parameter)\n",
        "print(\"\\nLasso Regression parameters:\")\n",
        "print(Lasso_parameter)"
      ]
    },
    {
      "cell_type": "code",
      "execution_count": null,
      "metadata": {
        "deletable": false,
        "editable": false,
        "nbgrader": {
          "cell_type": "code",
          "checksum": "9683f03aef58c9eba90a2df6077e35cf",
          "grade": true,
          "grade_id": "parameters_tests-public",
          "locked": true,
          "points": 1,
          "schema_version": 3,
          "solution": false,
          "task": false
        },
        "id": "383Ev4sDF-QS"
      },
      "outputs": [],
      "source": [
        "np.testing.assert_almost_equal(LR_parameter[10], -23.517789172238473)\n",
        "np.testing.assert_almost_equal(Lasso_parameter[10], 0.0)"
      ]
    },
    {
      "cell_type": "code",
      "execution_count": null,
      "metadata": {
        "deletable": false,
        "editable": false,
        "nbgrader": {
          "cell_type": "code",
          "checksum": "64f67b2beda90ecf4b65fd73df0db79b",
          "grade": true,
          "grade_id": "parameters_tests-hidden",
          "locked": true,
          "points": 1,
          "schema_version": 3,
          "solution": false,
          "task": false
        },
        "id": "0uX4SsP8F-QT"
      },
      "outputs": [],
      "source": [
        "# Note: we will run hidden test cases too"
      ]
    },
    {
      "cell_type": "markdown",
      "metadata": {
        "deletable": false,
        "editable": false,
        "nbgrader": {
          "cell_type": "markdown",
          "checksum": "3d1c4a2efcc63aa0de1d4faa6713867b",
          "grade": false,
          "grade_id": "cell-59f0827753c683dc",
          "locked": true,
          "schema_version": 3,
          "solution": false,
          "task": false
        },
        "id": "Qh7_arS5F-QT"
      },
      "source": [
        "From the results, compare the two regression models, including the training and testing RMSE, and the coefficients. Use the output of these functions to answer the following questions below:\n",
        "\n",
        "1. The dataset contains 19 attributes. Are all 19 attributes useful for predicting the dependent variable? Why or why not? Use your results to justify the answer.\n",
        "2. If not all attributes are predictive, use your Lasso model to perform feature selection. Which attributes should be kept? Use a correlation and/or scatter plot to justify your answer for at least one attribute (in a new cell below)."
      ]
    },
    {
      "cell_type": "markdown",
      "metadata": {
        "deletable": false,
        "nbgrader": {
          "cell_type": "markdown",
          "checksum": "b10af8e0b17cbf5a620b84ef392e0bda",
          "grade": true,
          "grade_id": "comparison",
          "locked": false,
          "points": 4,
          "schema_version": 3,
          "solution": true,
          "task": false
        },
        "id": "8p2xrVoBF-QT"
      },
      "source": [
        "1. No, not all attributes are useful for prediction. The results from the Lasso regression show that some of the attributes were shrunk to zero, meaning they did not contribute to the prediction and were therefore removed, an action that did not impact model performance.\n",
        "\n",
        "2. Any attribute with a non-zero value in the Lasso model should be kept, as that shows that it was not useless enough to be reduced to zero, meaning it has some impact on the predictions. These features are at the following indices:\n",
        "[0 1 2 3 5 6 7 9 11 12 13 14 17 18]\n",
        "\n",
        "The scatter plot below shows the correlation between the first attribute that was reduced to zero (feature #5, index 4) and the target variable. The correlation is clearly very low, as calculated in the code below the scatterplot code, is roughly 0.36. This is a low correlation and shows that feature #5 is not useful for predicting the target variable.\n"
      ]
    },
    {
      "cell_type": "code",
      "source": [
        "import matplotlib.pyplot as plt\n",
        "\n",
        "selected_features = np.where(Lasso_parameter != 0)[0]\n",
        "print(selected_features)\n",
        "\n",
        "feature_index = selected_features[0] if len(selected_features) > 0 else 0\n",
        "plt.figure(figsize=(8, 6))\n",
        "plt.scatter(X_train[:, feature_index], y_train, alpha=0.5)\n",
        "plt.xlabel(f\"Feature {feature_index}\")\n",
        "plt.ylabel(\"Target Variable\")\n",
        "plt.title(f\"Scatter plot of Feature {feature_index} vs Target\")\n",
        "plt.show()\n",
        "\n",
        "# Calculate correlation between the first selected feature and the target variable\n",
        "feature_index = selected_features[0]\n",
        "correlation_coefficient = np.corrcoef(X_train[:, feature_index], y_train)[0, 1]\n",
        "print(f\"Correlation between Feature {feature_index} and Target Variable: {correlation_coefficient}\")"
      ],
      "metadata": {
        "colab": {
          "base_uri": "https://localhost:8080/",
          "height": 600
        },
        "id": "Ycz4PurOaePc",
        "outputId": "d7250f41-7d70-4773-e631-362166d47759"
      },
      "execution_count": null,
      "outputs": [
        {
          "output_type": "stream",
          "name": "stdout",
          "text": [
            "[ 0  1  2  3  5  6  7  9 11 12 13 14 17 18]\n"
          ]
        },
        {
          "output_type": "display_data",
          "data": {
            "text/plain": [
              "<Figure size 800x600 with 1 Axes>"
            ],
            "image/png": "[encoded data removed]"
          },
          "metadata": {}
        },
        {
          "output_type": "stream",
          "name": "stdout",
          "text": [
            "Correlation between Feature 0 and Target Variable: 0.3598923506738516\n"
          ]
        }
      ]
    },
    {
      "cell_type": "markdown",
      "metadata": {
        "id": "BrtHA6GIF-QU"
      },
      "source": [
        "**Remember**: Make sure to complete all problems (.ipynb files) in this assignment. When you finish, double-check the submission instructions at the top of this file, and submit on JupyterHub."
      ]
    }
  ],
  "metadata": {
    "kernelspec": {
      "display_name": "Python 3 (ipykernel)",
      "language": "python",
      "name": "python3"
    },
    "language_info": {
      "codemirror_mode": {
        "name": "ipython",
        "version": 3
      },
      "file_extension": ".py",
      "mimetype": "text/x-python",
      "name": "python",
      "nbconvert_exporter": "python",
      "pygments_lexer": "ipython3",
      "version": "3.9.0"
    },
    "colab": {
      "provenance": [],
      "include_colab_link": true
    }
  },
  "nbformat": 4,
  "nbformat_minor": 0
}